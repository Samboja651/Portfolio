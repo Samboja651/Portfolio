{
  "cells": [
    {
      "cell_type": "markdown",
      "metadata": {
        "id": "view-in-github",
        "colab_type": "text"
      },
      "source": [
        "<a href=\"https://colab.research.google.com/github/Samboja651/Portfolio/blob/main/comp_460_ML_breast_cancer_wisconsin.ipynb\" target=\"_parent\"><img src=\"https://colab.research.google.com/assets/colab-badge.svg\" alt=\"Open In Colab\"/></a>"
      ]
    },
    {
      "cell_type": "markdown",
      "source": [
        "COMP 460 Machine Learning\n",
        "\n",
        "19-11-2024\\\n",
        "**Breast Cancer Detection - ML Model**\\\n",
        "[dataset link](https://www.kaggle.com/datasets/uciml/breast-cancer-wisconsin-data)\\\n",
        "[Link to guiding research paper](https://doi.org/10.3390/diagnostics13193113)\\\n",
        "[Link to our documentation](https://docs.google.com/document/d/1TjcojrOeiRrUME_3lfcs7oW_EX08knQVnIqGkXdo97c/edit?usp=sharing)\\\n",
        "Alternatively, all the files are uploaded in this colab, see in file's section.\\\n",
        "\n",
        "Team \\\n",
        "Isaack Leshan       **IN13/00112/21** \\\n",
        "Granton Waribe      **IN13/00036/21** \\\n",
        "Ezekiah Nyagwaya    **IN13/00037/21**\n"
      ],
      "metadata": {
        "id": "U1QjVKZnkimX"
      }
    },
    {
      "cell_type": "code",
      "execution_count": null,
      "metadata": {
        "_cell_guid": "b1076dfc-b9ad-4769-8c92-a6c4dae69d19",
        "_uuid": "8f2839f25d086af736a60e9eeb907d3b93b6e0e5",
        "id": "ukLcgfTXfZUU"
      },
      "outputs": [],
      "source": [
        "import numpy as np\n",
        "import pandas as pd\n",
        "import matplotlib.pyplot as plt\n",
        "import seaborn as sns\n",
        "\n",
        "from sklearn.preprocessing import LabelEncoder\n",
        "from sklearn.preprocessing import StandardScaler\n",
        "\n",
        "from sklearn.decomposition import PCA\n",
        "from sklearn.model_selection import train_test_split\n",
        "from sklearn.neighbors import KNeighborsClassifier\n",
        "from sklearn.metrics import classification_report,confusion_matrix\n",
        "from sklearn.model_selection import cross_val_score"
      ]
    },
    {
      "cell_type": "code",
      "execution_count": null,
      "metadata": {
        "id": "LIM8COCgfZUa"
      },
      "outputs": [],
      "source": [
        "# Load dataset"
      ]
    },
    {
      "cell_type": "code",
      "execution_count": null,
      "metadata": {
        "id": "hXZylBIHfZUa"
      },
      "outputs": [],
      "source": [
        "df = pd.read_csv('/content/Breast Cancer Wisconsin.csv') # df -> dataframe\n",
        "df.head()"
      ]
    },
    {
      "cell_type": "code",
      "execution_count": null,
      "metadata": {
        "id": "YsyBUc3WfZUb"
      },
      "outputs": [],
      "source": [
        "# preprocessing - drop id and unnamed column\n",
        "df.info()"
      ]
    },
    {
      "cell_type": "code",
      "execution_count": null,
      "metadata": {
        "id": "2xS6OTaEfZUb"
      },
      "outputs": [],
      "source": [
        "df1= df.drop(['id','Unnamed: 32'], axis=1)"
      ]
    },
    {
      "cell_type": "code",
      "execution_count": null,
      "metadata": {
        "id": "f9aKqc6cfZUc",
        "outputId": "634e7960-272a-4b39-8195-2ac31f1d0792"
      },
      "outputs": [
        {
          "data": {
            "text/plain": [
              "(569, 31)"
            ]
          },
          "execution_count": 6,
          "metadata": {},
          "output_type": "execute_result"
        }
      ],
      "source": [
        "df1.shape"
      ]
    },
    {
      "cell_type": "code",
      "execution_count": null,
      "metadata": {
        "id": "AqBZAJoqfZUc"
      },
      "outputs": [],
      "source": [
        "df1.info()"
      ]
    },
    {
      "cell_type": "code",
      "execution_count": null,
      "metadata": {
        "id": "h46yESUmfZUc"
      },
      "outputs": [],
      "source": [
        "# feature extraction"
      ]
    },
    {
      "cell_type": "code",
      "execution_count": null,
      "metadata": {
        "id": "Se2o98JLfZUd"
      },
      "outputs": [],
      "source": [
        "target_distribution = df1['diagnosis'].value_counts()\n",
        "print(target_distribution)\n",
        "plt.figure(figsize=(4, 4))\n",
        "plt.pie(target_distribution, labels=target_distribution.index, autopct='%1.1f%%', startangle=90)\n",
        "plt.title(\"Distribution of Target Feature\")\n",
        "plt.axis('equal')\n",
        "plt.show()"
      ]
    },
    {
      "cell_type": "code",
      "execution_count": null,
      "metadata": {
        "id": "RXDTm_BhfZUd"
      },
      "outputs": [],
      "source": [
        "# Assuming 'df' is your DataFrame and 'column' is the categorical variable\n",
        "df1['diagnosis'] = df1['diagnosis'].map({'B': 0, 'M': 1})\n"
      ]
    },
    {
      "cell_type": "code",
      "execution_count": null,
      "metadata": {
        "id": "4CjD-cucfZUd"
      },
      "outputs": [],
      "source": [
        "df1['diagnosis'].value_counts()\n",
        "# target_distribution = df1['diagnosis'].value_counts()\n",
        "# print(target_distribution)"
      ]
    },
    {
      "cell_type": "code",
      "execution_count": null,
      "metadata": {
        "id": "TPqMg9-pfZUe"
      },
      "outputs": [],
      "source": [
        "# correlation matrix"
      ]
    },
    {
      "cell_type": "code",
      "execution_count": null,
      "metadata": {
        "id": "gwbk87p9fZUe"
      },
      "outputs": [],
      "source": [
        "corr_matrix = df1.corr(numeric_only=True)\n",
        "plt.figure(figsize=(17, 10))\n",
        "sns.heatmap(corr_matrix, annot=True, fmt='.2f', cmap='coolwarm', linewidths=0.5)\n",
        "plt.title(\"Correlation Heatmap of Features\", size=15)\n",
        "plt.show()"
      ]
    },
    {
      "cell_type": "code",
      "execution_count": null,
      "metadata": {
        "id": "nf3csGG7fZUe"
      },
      "outputs": [],
      "source": [
        "# There is very high collinearity - some features are closely related or affect\n",
        "# target feature diagnosis"
      ]
    },
    {
      "cell_type": "code",
      "execution_count": null,
      "metadata": {
        "id": "Udh6IpnkfZUe"
      },
      "outputs": [],
      "source": [
        "corr_vector = df1.corr(numeric_only=True)['diagnosis'].sort_values(ascending=False)\n",
        "corr_vector.plot(kind='barh', figsize=(10, 6), color='skyblue')\n",
        "plt.title(f'Correlation of diagnosis with other Features')\n",
        "plt.ylabel('Correlation')\n",
        "plt.xlabel('Features')\n",
        "plt.show()"
      ]
    },
    {
      "cell_type": "code",
      "execution_count": null,
      "metadata": {
        "id": "ujVNAvqmfZUe"
      },
      "outputs": [],
      "source": [
        "# data balancing"
      ]
    },
    {
      "cell_type": "code",
      "execution_count": null,
      "metadata": {
        "id": "YBjDFTB5fZUe"
      },
      "outputs": [],
      "source": [
        "X = df1.drop('diagnosis', axis=1)  # Drop the target column\n",
        "y = df1['diagnosis']"
      ]
    },
    {
      "cell_type": "code",
      "execution_count": null,
      "metadata": {
        "id": "V5AJCn6UfZUf"
      },
      "outputs": [],
      "source": [
        "scaler = StandardScaler()\n",
        "X_scaled = scaler.fit_transform(X)\n",
        "X_scaled_df = pd.DataFrame(X_scaled, columns=X.columns)\n"
      ]
    },
    {
      "cell_type": "code",
      "execution_count": null,
      "metadata": {
        "id": "xUrt6GMAfZUf"
      },
      "outputs": [],
      "source": [
        "X_scaled_df"
      ]
    },
    {
      "cell_type": "code",
      "execution_count": null,
      "metadata": {
        "id": "YK26z2NLfZUf"
      },
      "outputs": [],
      "source": [
        "pca = PCA(n_components=10)\n",
        "pca.fit(X_scaled_df)\n",
        "x_pca = pca.transform(X_scaled_df)"
      ]
    },
    {
      "cell_type": "code",
      "execution_count": null,
      "metadata": {
        "id": "BI7Ip12qfZUf"
      },
      "outputs": [],
      "source": [
        "print(\"\\nCumulative Explained Variance:\")\n",
        "print(np.cumsum(pca.explained_variance_ratio_))"
      ]
    },
    {
      "cell_type": "code",
      "execution_count": null,
      "metadata": {
        "id": "Jojf21acfZUf"
      },
      "outputs": [],
      "source": [
        "x_pca.shape"
      ]
    },
    {
      "cell_type": "code",
      "execution_count": null,
      "metadata": {
        "id": "v5cT4XJqfZUf"
      },
      "outputs": [],
      "source": [
        "# data splitting test data = 20%"
      ]
    },
    {
      "cell_type": "code",
      "source": [],
      "metadata": {
        "id": "1JajbJ3nkZGr"
      },
      "execution_count": null,
      "outputs": []
    },
    {
      "cell_type": "code",
      "execution_count": null,
      "metadata": {
        "id": "WpVdmZ6rfZUf"
      },
      "outputs": [],
      "source": [
        "X_train, X_test, y_train, y_test = train_test_split(x_pca,y,\n",
        "                                                    test_size=0.20)"
      ]
    },
    {
      "cell_type": "code",
      "execution_count": null,
      "metadata": {
        "id": "NftmqI4lfZUg"
      },
      "outputs": [],
      "source": [
        "# model selection"
      ]
    },
    {
      "cell_type": "code",
      "execution_count": null,
      "metadata": {
        "id": "knBigHLPfZUg"
      },
      "outputs": [],
      "source": [
        "accuracy_rate = []\n",
        "\n",
        "# Will take some time\n",
        "for i in range(1,50): # k-nn k is selected k=i, adjust k = hyperparmeter tuning\n",
        "\n",
        "    knn = KNeighborsClassifier(n_neighbors=i)\n",
        "    score=cross_val_score(knn,x_pca,y,cv=10)\n",
        "    accuracy_rate.append(score.mean())"
      ]
    },
    {
      "cell_type": "code",
      "execution_count": null,
      "metadata": {
        "id": "xMDphFWpfZUg"
      },
      "outputs": [],
      "source": [
        "plt.figure(figsize=(10,6))\n",
        "#plt.plot(range(1,40),error_rate,color='blue', linestyle='dashed', marker='o',\n",
        "  #       markerfacecolor='red', markersize=10)\n",
        "plt.plot(range(1,50),accuracy_rate,color='blue', linestyle='dashed', marker='o',\n",
        "         markerfacecolor='red', markersize=10)\n",
        "plt.title('Accuracy vs. K Value')\n",
        "plt.xlabel('K')\n",
        "plt.ylabel('Accuracy')"
      ]
    },
    {
      "cell_type": "code",
      "execution_count": null,
      "metadata": {
        "id": "PB_9caEMfZUg"
      },
      "outputs": [],
      "source": [
        "knn = KNeighborsClassifier(n_neighbors=9)\n",
        "knn.fit(X_train,y_train)\n",
        "pred = knn.predict(X_test)"
      ]
    },
    {
      "cell_type": "code",
      "execution_count": null,
      "metadata": {
        "id": "IN6mbKk_fZUg"
      },
      "outputs": [],
      "source": [
        "print(classification_report(y_test,pred))\n"
      ]
    },
    {
      "cell_type": "code",
      "execution_count": null,
      "metadata": {
        "id": "lRKE9I6xfZUg"
      },
      "outputs": [],
      "source": []
    }
  ],
  "metadata": {
    "kaggle": {
      "accelerator": "none",
      "dataSources": [
        {
          "datasetId": 180,
          "sourceId": 408,
          "sourceType": "datasetVersion"
        }
      ],
      "dockerImageVersionId": 30786,
      "isGpuEnabled": false,
      "isInternetEnabled": true,
      "language": "python",
      "sourceType": "notebook"
    },
    "kernelspec": {
      "display_name": "Python 3 (ipykernel)",
      "language": "python",
      "name": "python3"
    },
    "language_info": {
      "codemirror_mode": {
        "name": "ipython",
        "version": 3
      },
      "file_extension": ".py",
      "mimetype": "text/x-python",
      "name": "python",
      "nbconvert_exporter": "python",
      "pygments_lexer": "ipython3",
      "version": "3.10.12"
    },
    "colab": {
      "provenance": [],
      "include_colab_link": true
    }
  },
  "nbformat": 4,
  "nbformat_minor": 0
}